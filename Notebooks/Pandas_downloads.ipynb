{
 "cells": [
  {
   "cell_type": "code",
   "execution_count": 2,
   "metadata": {},
   "outputs": [],
   "source": [
    "import requests"
   ]
  },
  {
   "cell_type": "code",
   "execution_count": 7,
   "metadata": {},
   "outputs": [],
   "source": [
    "target_folder = 'point/to/Datasets/folder'"
   ]
  },
  {
   "cell_type": "markdown",
   "metadata": {},
   "source": [
    "## Federal office of statistics data"
   ]
  },
  {
   "cell_type": "code",
   "execution_count": 8,
   "metadata": {},
   "outputs": [],
   "source": [
    "url = {'2019':'https://www.bfs.admin.ch/bfsstatic/dam/assets/7786549/master/',\n",
    "       '2018':'https://www.bfs.admin.ch/bfsstatic/dam/assets/4662818/master/',\n",
    "       '2017':'https://www.bfs.admin.ch/bfsstatic/dam/assets/2422866/master/',\n",
    "       '2016':'https://www.bfs.admin.ch/bfsstatic/dam/assets/328133/master/',\n",
    "       '2015':'https://www.bfs.admin.ch/bfsstatic/dam/assets/2420279/master/',\n",
    "       '2014':'https://www.bfs.admin.ch/bfsstatic/dam/assets/2420592/master/',\n",
    "       '2013':'https://www.bfs.admin.ch/bfsstatic/dam/assets/2420658/master/'}\n",
    "\n",
    "for k in url:\n",
    "    myfile = requests.get(url[k], allow_redirects=True)\n",
    "    open(target_folder+k+'.xls', 'wb').write(myfile.content)\n"
   ]
  },
  {
   "cell_type": "markdown",
   "metadata": {},
   "source": [
    "## List of towns and cantons"
   ]
  },
  {
   "cell_type": "code",
   "execution_count": 18,
   "metadata": {},
   "outputs": [
    {
     "data": {
      "text/plain": [
       "2052096"
      ]
     },
     "execution_count": 18,
     "metadata": {},
     "output_type": "execute_result"
    }
   ],
   "source": [
    "myfile = requests.get('https://www.bfs.admin.ch/bfsstatic/dam/assets/275785/master', allow_redirects=True)\n",
    "open(target_folder+'be-b-00.04-osv-01.xls', 'wb').write(myfile.content)"
   ]
  },
  {
   "cell_type": "markdown",
   "metadata": {},
   "source": [
    "## Languages"
   ]
  },
  {
   "cell_type": "code",
   "execution_count": 19,
   "metadata": {},
   "outputs": [
    {
     "data": {
      "text/plain": [
       "210499"
      ]
     },
     "execution_count": 19,
     "metadata": {},
     "output_type": "execute_result"
    }
   ],
   "source": [
    "myfile = requests.get('https://www.bfs.admin.ch/bfsstatic/dam/assets/7226724/master', allow_redirects=True)\n",
    "open(target_folder+'je-f-01.08.01.02.xlsx', 'wb').write(myfile.content)\n"
   ]
  },
  {
   "cell_type": "markdown",
   "metadata": {},
   "source": [
    "## Towns locations"
   ]
  },
  {
   "cell_type": "code",
   "execution_count": 20,
   "metadata": {},
   "outputs": [
    {
     "data": {
      "text/plain": [
       "62859171"
      ]
     },
     "execution_count": 20,
     "metadata": {},
     "output_type": "execute_result"
    }
   ],
   "source": [
    "myfile = requests.get('https://swisspost.opendatasoft.com/explore/dataset/plz_verzeichnis_v2/download/?format=csv&timezone=Europe/Berlin&use_labels_for_header=true', allow_redirects=True)\n",
    "open(target_folder+'plz_verzeichnis_v2.csv', 'wb').write(myfile.content)\n",
    "\n"
   ]
  },
  {
   "cell_type": "code",
   "execution_count": null,
   "metadata": {},
   "outputs": [],
   "source": []
  }
 ],
 "metadata": {
  "kernelspec": {
   "display_name": "Python 3",
   "language": "python",
   "name": "python3"
  },
  "language_info": {
   "codemirror_mode": {
    "name": "ipython",
    "version": 3
   },
   "file_extension": ".py",
   "mimetype": "text/x-python",
   "name": "python",
   "nbconvert_exporter": "python",
   "pygments_lexer": "ipython3",
   "version": "3.7.3"
  }
 },
 "nbformat": 4,
 "nbformat_minor": 2
}
